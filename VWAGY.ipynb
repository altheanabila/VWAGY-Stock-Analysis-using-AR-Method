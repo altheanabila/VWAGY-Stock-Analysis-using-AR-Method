{
 "cells": [
  {
   "cell_type": "code",
   "execution_count": 40,
   "metadata": {},
   "outputs": [],
   "source": [
    "import pandas as pd\n",
    "import numpy as np\n",
    "import matplotlib\n",
    "import matplotlib.pyplot as plt"
   ]
  },
  {
   "cell_type": "code",
   "execution_count": 41,
   "metadata": {},
   "outputs": [
    {
     "data": {
      "text/html": [
       "<div>\n",
       "<style scoped>\n",
       "    .dataframe tbody tr th:only-of-type {\n",
       "        vertical-align: middle;\n",
       "    }\n",
       "\n",
       "    .dataframe tbody tr th {\n",
       "        vertical-align: top;\n",
       "    }\n",
       "\n",
       "    .dataframe thead th {\n",
       "        text-align: right;\n",
       "    }\n",
       "</style>\n",
       "<table border=\"1\" class=\"dataframe\">\n",
       "  <thead>\n",
       "    <tr style=\"text-align: right;\">\n",
       "      <th></th>\n",
       "      <th>Date</th>\n",
       "      <th>Open</th>\n",
       "      <th>High</th>\n",
       "      <th>Low</th>\n",
       "      <th>Close</th>\n",
       "      <th>Adj Close</th>\n",
       "      <th>Volume</th>\n",
       "    </tr>\n",
       "  </thead>\n",
       "  <tbody>\n",
       "    <tr>\n",
       "      <th>0</th>\n",
       "      <td>2018-01-02</td>\n",
       "      <td>20.139999</td>\n",
       "      <td>20.405001</td>\n",
       "      <td>20.125000</td>\n",
       "      <td>20.395500</td>\n",
       "      <td>19.744776</td>\n",
       "      <td>275000</td>\n",
       "    </tr>\n",
       "    <tr>\n",
       "      <th>1</th>\n",
       "      <td>2018-01-03</td>\n",
       "      <td>20.635000</td>\n",
       "      <td>20.750000</td>\n",
       "      <td>20.565001</td>\n",
       "      <td>20.627501</td>\n",
       "      <td>19.969374</td>\n",
       "      <td>254600</td>\n",
       "    </tr>\n",
       "    <tr>\n",
       "      <th>2</th>\n",
       "      <td>2018-01-04</td>\n",
       "      <td>21.104000</td>\n",
       "      <td>21.235001</td>\n",
       "      <td>21.010000</td>\n",
       "      <td>21.235001</td>\n",
       "      <td>20.557491</td>\n",
       "      <td>354200</td>\n",
       "    </tr>\n",
       "    <tr>\n",
       "      <th>3</th>\n",
       "      <td>2018-01-05</td>\n",
       "      <td>21.455000</td>\n",
       "      <td>21.600000</td>\n",
       "      <td>21.379999</td>\n",
       "      <td>21.600000</td>\n",
       "      <td>20.910847</td>\n",
       "      <td>449400</td>\n",
       "    </tr>\n",
       "    <tr>\n",
       "      <th>4</th>\n",
       "      <td>2018-01-08</td>\n",
       "      <td>21.482500</td>\n",
       "      <td>21.610001</td>\n",
       "      <td>21.434999</td>\n",
       "      <td>21.610001</td>\n",
       "      <td>20.920527</td>\n",
       "      <td>479200</td>\n",
       "    </tr>\n",
       "    <tr>\n",
       "      <th>...</th>\n",
       "      <td>...</td>\n",
       "      <td>...</td>\n",
       "      <td>...</td>\n",
       "      <td>...</td>\n",
       "      <td>...</td>\n",
       "      <td>...</td>\n",
       "      <td>...</td>\n",
       "    </tr>\n",
       "    <tr>\n",
       "      <th>750</th>\n",
       "      <td>2020-12-23</td>\n",
       "      <td>20.500000</td>\n",
       "      <td>20.719999</td>\n",
       "      <td>20.400000</td>\n",
       "      <td>20.690001</td>\n",
       "      <td>20.690001</td>\n",
       "      <td>343100</td>\n",
       "    </tr>\n",
       "    <tr>\n",
       "      <th>751</th>\n",
       "      <td>2020-12-24</td>\n",
       "      <td>20.730000</td>\n",
       "      <td>20.850000</td>\n",
       "      <td>20.650000</td>\n",
       "      <td>20.830000</td>\n",
       "      <td>20.830000</td>\n",
       "      <td>124300</td>\n",
       "    </tr>\n",
       "    <tr>\n",
       "      <th>752</th>\n",
       "      <td>2020-12-28</td>\n",
       "      <td>20.840000</td>\n",
       "      <td>20.959999</td>\n",
       "      <td>20.799999</td>\n",
       "      <td>20.834000</td>\n",
       "      <td>20.834000</td>\n",
       "      <td>229800</td>\n",
       "    </tr>\n",
       "    <tr>\n",
       "      <th>753</th>\n",
       "      <td>2020-12-29</td>\n",
       "      <td>20.889999</td>\n",
       "      <td>20.889999</td>\n",
       "      <td>20.750000</td>\n",
       "      <td>20.820000</td>\n",
       "      <td>20.820000</td>\n",
       "      <td>103700</td>\n",
       "    </tr>\n",
       "    <tr>\n",
       "      <th>754</th>\n",
       "      <td>2020-12-30</td>\n",
       "      <td>21.070000</td>\n",
       "      <td>21.139999</td>\n",
       "      <td>20.870001</td>\n",
       "      <td>20.951000</td>\n",
       "      <td>20.951000</td>\n",
       "      <td>152600</td>\n",
       "    </tr>\n",
       "  </tbody>\n",
       "</table>\n",
       "<p>755 rows × 7 columns</p>\n",
       "</div>"
      ],
      "text/plain": [
       "           Date       Open       High        Low      Close  Adj Close  Volume\n",
       "0    2018-01-02  20.139999  20.405001  20.125000  20.395500  19.744776  275000\n",
       "1    2018-01-03  20.635000  20.750000  20.565001  20.627501  19.969374  254600\n",
       "2    2018-01-04  21.104000  21.235001  21.010000  21.235001  20.557491  354200\n",
       "3    2018-01-05  21.455000  21.600000  21.379999  21.600000  20.910847  449400\n",
       "4    2018-01-08  21.482500  21.610001  21.434999  21.610001  20.920527  479200\n",
       "..          ...        ...        ...        ...        ...        ...     ...\n",
       "750  2020-12-23  20.500000  20.719999  20.400000  20.690001  20.690001  343100\n",
       "751  2020-12-24  20.730000  20.850000  20.650000  20.830000  20.830000  124300\n",
       "752  2020-12-28  20.840000  20.959999  20.799999  20.834000  20.834000  229800\n",
       "753  2020-12-29  20.889999  20.889999  20.750000  20.820000  20.820000  103700\n",
       "754  2020-12-30  21.070000  21.139999  20.870001  20.951000  20.951000  152600\n",
       "\n",
       "[755 rows x 7 columns]"
      ]
     },
     "execution_count": 41,
     "metadata": {},
     "output_type": "execute_result"
    }
   ],
   "source": [
    "pd.read_csv('VWAGY.csv')"
   ]
  },
  {
   "cell_type": "code",
   "execution_count": 42,
   "metadata": {},
   "outputs": [],
   "source": [
    "df = pd.read_csv('VWAGY.csv')"
   ]
  },
  {
   "cell_type": "code",
   "execution_count": 43,
   "metadata": {},
   "outputs": [],
   "source": [
    "df = pd.read_csv('VWAGY.csv', header =0, parse_dates=[0])"
   ]
  },
  {
   "cell_type": "code",
   "execution_count": 44,
   "metadata": {
    "scrolled": true
   },
   "outputs": [
    {
     "data": {
      "text/html": [
       "<div>\n",
       "<style scoped>\n",
       "    .dataframe tbody tr th:only-of-type {\n",
       "        vertical-align: middle;\n",
       "    }\n",
       "\n",
       "    .dataframe tbody tr th {\n",
       "        vertical-align: top;\n",
       "    }\n",
       "\n",
       "    .dataframe thead th {\n",
       "        text-align: right;\n",
       "    }\n",
       "</style>\n",
       "<table border=\"1\" class=\"dataframe\">\n",
       "  <thead>\n",
       "    <tr style=\"text-align: right;\">\n",
       "      <th></th>\n",
       "      <th>Date</th>\n",
       "      <th>Open</th>\n",
       "      <th>High</th>\n",
       "      <th>Low</th>\n",
       "      <th>Close</th>\n",
       "      <th>Adj Close</th>\n",
       "      <th>Volume</th>\n",
       "    </tr>\n",
       "  </thead>\n",
       "  <tbody>\n",
       "    <tr>\n",
       "      <th>0</th>\n",
       "      <td>2018-01-02</td>\n",
       "      <td>20.139999</td>\n",
       "      <td>20.405001</td>\n",
       "      <td>20.125000</td>\n",
       "      <td>20.395500</td>\n",
       "      <td>19.744776</td>\n",
       "      <td>275000</td>\n",
       "    </tr>\n",
       "    <tr>\n",
       "      <th>1</th>\n",
       "      <td>2018-01-03</td>\n",
       "      <td>20.635000</td>\n",
       "      <td>20.750000</td>\n",
       "      <td>20.565001</td>\n",
       "      <td>20.627501</td>\n",
       "      <td>19.969374</td>\n",
       "      <td>254600</td>\n",
       "    </tr>\n",
       "    <tr>\n",
       "      <th>2</th>\n",
       "      <td>2018-01-04</td>\n",
       "      <td>21.104000</td>\n",
       "      <td>21.235001</td>\n",
       "      <td>21.010000</td>\n",
       "      <td>21.235001</td>\n",
       "      <td>20.557491</td>\n",
       "      <td>354200</td>\n",
       "    </tr>\n",
       "    <tr>\n",
       "      <th>3</th>\n",
       "      <td>2018-01-05</td>\n",
       "      <td>21.455000</td>\n",
       "      <td>21.600000</td>\n",
       "      <td>21.379999</td>\n",
       "      <td>21.600000</td>\n",
       "      <td>20.910847</td>\n",
       "      <td>449400</td>\n",
       "    </tr>\n",
       "    <tr>\n",
       "      <th>4</th>\n",
       "      <td>2018-01-08</td>\n",
       "      <td>21.482500</td>\n",
       "      <td>21.610001</td>\n",
       "      <td>21.434999</td>\n",
       "      <td>21.610001</td>\n",
       "      <td>20.920527</td>\n",
       "      <td>479200</td>\n",
       "    </tr>\n",
       "  </tbody>\n",
       "</table>\n",
       "</div>"
      ],
      "text/plain": [
       "        Date       Open       High        Low      Close  Adj Close  Volume\n",
       "0 2018-01-02  20.139999  20.405001  20.125000  20.395500  19.744776  275000\n",
       "1 2018-01-03  20.635000  20.750000  20.565001  20.627501  19.969374  254600\n",
       "2 2018-01-04  21.104000  21.235001  21.010000  21.235001  20.557491  354200\n",
       "3 2018-01-05  21.455000  21.600000  21.379999  21.600000  20.910847  449400\n",
       "4 2018-01-08  21.482500  21.610001  21.434999  21.610001  20.920527  479200"
      ]
     },
     "execution_count": 44,
     "metadata": {},
     "output_type": "execute_result"
    }
   ],
   "source": [
    "df.head()"
   ]
  },
  {
   "cell_type": "code",
   "execution_count": 45,
   "metadata": {},
   "outputs": [],
   "source": [
    "df ['t'] = df['Adj Close'].shift(1)"
   ]
  },
  {
   "cell_type": "code",
   "execution_count": 46,
   "metadata": {
    "scrolled": true
   },
   "outputs": [
    {
     "data": {
      "text/html": [
       "<div>\n",
       "<style scoped>\n",
       "    .dataframe tbody tr th:only-of-type {\n",
       "        vertical-align: middle;\n",
       "    }\n",
       "\n",
       "    .dataframe tbody tr th {\n",
       "        vertical-align: top;\n",
       "    }\n",
       "\n",
       "    .dataframe thead th {\n",
       "        text-align: right;\n",
       "    }\n",
       "</style>\n",
       "<table border=\"1\" class=\"dataframe\">\n",
       "  <thead>\n",
       "    <tr style=\"text-align: right;\">\n",
       "      <th></th>\n",
       "      <th>Date</th>\n",
       "      <th>Open</th>\n",
       "      <th>High</th>\n",
       "      <th>Low</th>\n",
       "      <th>Close</th>\n",
       "      <th>Adj Close</th>\n",
       "      <th>Volume</th>\n",
       "      <th>t</th>\n",
       "    </tr>\n",
       "  </thead>\n",
       "  <tbody>\n",
       "    <tr>\n",
       "      <th>0</th>\n",
       "      <td>2018-01-02</td>\n",
       "      <td>20.139999</td>\n",
       "      <td>20.405001</td>\n",
       "      <td>20.125000</td>\n",
       "      <td>20.395500</td>\n",
       "      <td>19.744776</td>\n",
       "      <td>275000</td>\n",
       "      <td>NaN</td>\n",
       "    </tr>\n",
       "    <tr>\n",
       "      <th>1</th>\n",
       "      <td>2018-01-03</td>\n",
       "      <td>20.635000</td>\n",
       "      <td>20.750000</td>\n",
       "      <td>20.565001</td>\n",
       "      <td>20.627501</td>\n",
       "      <td>19.969374</td>\n",
       "      <td>254600</td>\n",
       "      <td>19.744776</td>\n",
       "    </tr>\n",
       "    <tr>\n",
       "      <th>2</th>\n",
       "      <td>2018-01-04</td>\n",
       "      <td>21.104000</td>\n",
       "      <td>21.235001</td>\n",
       "      <td>21.010000</td>\n",
       "      <td>21.235001</td>\n",
       "      <td>20.557491</td>\n",
       "      <td>354200</td>\n",
       "      <td>19.969374</td>\n",
       "    </tr>\n",
       "    <tr>\n",
       "      <th>3</th>\n",
       "      <td>2018-01-05</td>\n",
       "      <td>21.455000</td>\n",
       "      <td>21.600000</td>\n",
       "      <td>21.379999</td>\n",
       "      <td>21.600000</td>\n",
       "      <td>20.910847</td>\n",
       "      <td>449400</td>\n",
       "      <td>20.557491</td>\n",
       "    </tr>\n",
       "    <tr>\n",
       "      <th>4</th>\n",
       "      <td>2018-01-08</td>\n",
       "      <td>21.482500</td>\n",
       "      <td>21.610001</td>\n",
       "      <td>21.434999</td>\n",
       "      <td>21.610001</td>\n",
       "      <td>20.920527</td>\n",
       "      <td>479200</td>\n",
       "      <td>20.910847</td>\n",
       "    </tr>\n",
       "  </tbody>\n",
       "</table>\n",
       "</div>"
      ],
      "text/plain": [
       "        Date       Open       High        Low      Close  Adj Close  Volume  \\\n",
       "0 2018-01-02  20.139999  20.405001  20.125000  20.395500  19.744776  275000   \n",
       "1 2018-01-03  20.635000  20.750000  20.565001  20.627501  19.969374  254600   \n",
       "2 2018-01-04  21.104000  21.235001  21.010000  21.235001  20.557491  354200   \n",
       "3 2018-01-05  21.455000  21.600000  21.379999  21.600000  20.910847  449400   \n",
       "4 2018-01-08  21.482500  21.610001  21.434999  21.610001  20.920527  479200   \n",
       "\n",
       "           t  \n",
       "0        NaN  \n",
       "1  19.744776  \n",
       "2  19.969374  \n",
       "3  20.557491  \n",
       "4  20.910847  "
      ]
     },
     "execution_count": 46,
     "metadata": {},
     "output_type": "execute_result"
    }
   ],
   "source": [
    "df.head()"
   ]
  },
  {
   "cell_type": "code",
   "execution_count": 47,
   "metadata": {},
   "outputs": [],
   "source": [
    "train, test = df[1:df.shape[0]-7], df[df.shape[0]-7:]"
   ]
  },
  {
   "cell_type": "code",
   "execution_count": 48,
   "metadata": {
    "scrolled": true
   },
   "outputs": [
    {
     "data": {
      "text/html": [
       "<div>\n",
       "<style scoped>\n",
       "    .dataframe tbody tr th:only-of-type {\n",
       "        vertical-align: middle;\n",
       "    }\n",
       "\n",
       "    .dataframe tbody tr th {\n",
       "        vertical-align: top;\n",
       "    }\n",
       "\n",
       "    .dataframe thead th {\n",
       "        text-align: right;\n",
       "    }\n",
       "</style>\n",
       "<table border=\"1\" class=\"dataframe\">\n",
       "  <thead>\n",
       "    <tr style=\"text-align: right;\">\n",
       "      <th></th>\n",
       "      <th>Date</th>\n",
       "      <th>Open</th>\n",
       "      <th>High</th>\n",
       "      <th>Low</th>\n",
       "      <th>Close</th>\n",
       "      <th>Adj Close</th>\n",
       "      <th>Volume</th>\n",
       "      <th>t</th>\n",
       "    </tr>\n",
       "  </thead>\n",
       "  <tbody>\n",
       "    <tr>\n",
       "      <th>1</th>\n",
       "      <td>2018-01-03</td>\n",
       "      <td>20.635000</td>\n",
       "      <td>20.750000</td>\n",
       "      <td>20.565001</td>\n",
       "      <td>20.627501</td>\n",
       "      <td>19.969374</td>\n",
       "      <td>254600</td>\n",
       "      <td>19.744776</td>\n",
       "    </tr>\n",
       "    <tr>\n",
       "      <th>2</th>\n",
       "      <td>2018-01-04</td>\n",
       "      <td>21.104000</td>\n",
       "      <td>21.235001</td>\n",
       "      <td>21.010000</td>\n",
       "      <td>21.235001</td>\n",
       "      <td>20.557491</td>\n",
       "      <td>354200</td>\n",
       "      <td>19.969374</td>\n",
       "    </tr>\n",
       "    <tr>\n",
       "      <th>3</th>\n",
       "      <td>2018-01-05</td>\n",
       "      <td>21.455000</td>\n",
       "      <td>21.600000</td>\n",
       "      <td>21.379999</td>\n",
       "      <td>21.600000</td>\n",
       "      <td>20.910847</td>\n",
       "      <td>449400</td>\n",
       "      <td>20.557491</td>\n",
       "    </tr>\n",
       "    <tr>\n",
       "      <th>4</th>\n",
       "      <td>2018-01-08</td>\n",
       "      <td>21.482500</td>\n",
       "      <td>21.610001</td>\n",
       "      <td>21.434999</td>\n",
       "      <td>21.610001</td>\n",
       "      <td>20.920527</td>\n",
       "      <td>479200</td>\n",
       "      <td>20.910847</td>\n",
       "    </tr>\n",
       "    <tr>\n",
       "      <th>5</th>\n",
       "      <td>2018-01-09</td>\n",
       "      <td>21.684999</td>\n",
       "      <td>21.735001</td>\n",
       "      <td>21.520000</td>\n",
       "      <td>21.645000</td>\n",
       "      <td>20.954411</td>\n",
       "      <td>264800</td>\n",
       "      <td>20.920527</td>\n",
       "    </tr>\n",
       "  </tbody>\n",
       "</table>\n",
       "</div>"
      ],
      "text/plain": [
       "        Date       Open       High        Low      Close  Adj Close  Volume  \\\n",
       "1 2018-01-03  20.635000  20.750000  20.565001  20.627501  19.969374  254600   \n",
       "2 2018-01-04  21.104000  21.235001  21.010000  21.235001  20.557491  354200   \n",
       "3 2018-01-05  21.455000  21.600000  21.379999  21.600000  20.910847  449400   \n",
       "4 2018-01-08  21.482500  21.610001  21.434999  21.610001  20.920527  479200   \n",
       "5 2018-01-09  21.684999  21.735001  21.520000  21.645000  20.954411  264800   \n",
       "\n",
       "           t  \n",
       "1  19.744776  \n",
       "2  19.969374  \n",
       "3  20.557491  \n",
       "4  20.910847  \n",
       "5  20.920527  "
      ]
     },
     "execution_count": 48,
     "metadata": {},
     "output_type": "execute_result"
    }
   ],
   "source": [
    "train.head()"
   ]
  },
  {
   "cell_type": "code",
   "execution_count": 49,
   "metadata": {},
   "outputs": [],
   "source": [
    "train_X, train_y = train['t'], train['Adj Close']\n",
    "test_X, test_y = test['t'], test['Adj Close']"
   ]
  },
  {
   "cell_type": "code",
   "execution_count": 50,
   "metadata": {},
   "outputs": [],
   "source": [
    "predictions = test_X.copy()"
   ]
  },
  {
   "cell_type": "code",
   "execution_count": 51,
   "metadata": {},
   "outputs": [
    {
     "name": "stdout",
     "output_type": "stream",
     "text": [
      "748    20.121000\n",
      "749    19.969999\n",
      "750    20.049999\n",
      "751    20.690001\n",
      "752    20.830000\n",
      "753    20.834000\n",
      "754    20.820000\n",
      "Name: t, dtype: float64\n",
      "748    19.969999\n",
      "749    20.049999\n",
      "750    20.690001\n",
      "751    20.830000\n",
      "752    20.834000\n",
      "753    20.820000\n",
      "754    20.951000\n",
      "Name: Adj Close, dtype: float64\n"
     ]
    }
   ],
   "source": [
    "print(predictions)\n",
    "print(test_y)"
   ]
  },
  {
   "cell_type": "code",
   "execution_count": 52,
   "metadata": {},
   "outputs": [],
   "source": [
    "df['Resid'] = df['Adj Close'] - df['t']"
   ]
  },
  {
   "cell_type": "code",
   "execution_count": 53,
   "metadata": {
    "scrolled": false
   },
   "outputs": [
    {
     "data": {
      "text/html": [
       "<div>\n",
       "<style scoped>\n",
       "    .dataframe tbody tr th:only-of-type {\n",
       "        vertical-align: middle;\n",
       "    }\n",
       "\n",
       "    .dataframe tbody tr th {\n",
       "        vertical-align: top;\n",
       "    }\n",
       "\n",
       "    .dataframe thead th {\n",
       "        text-align: right;\n",
       "    }\n",
       "</style>\n",
       "<table border=\"1\" class=\"dataframe\">\n",
       "  <thead>\n",
       "    <tr style=\"text-align: right;\">\n",
       "      <th></th>\n",
       "      <th>Date</th>\n",
       "      <th>Open</th>\n",
       "      <th>High</th>\n",
       "      <th>Low</th>\n",
       "      <th>Close</th>\n",
       "      <th>Adj Close</th>\n",
       "      <th>Volume</th>\n",
       "      <th>t</th>\n",
       "      <th>Resid</th>\n",
       "    </tr>\n",
       "  </thead>\n",
       "  <tbody>\n",
       "    <tr>\n",
       "      <th>0</th>\n",
       "      <td>2018-01-02</td>\n",
       "      <td>20.139999</td>\n",
       "      <td>20.405001</td>\n",
       "      <td>20.125000</td>\n",
       "      <td>20.395500</td>\n",
       "      <td>19.744776</td>\n",
       "      <td>275000</td>\n",
       "      <td>NaN</td>\n",
       "      <td>NaN</td>\n",
       "    </tr>\n",
       "    <tr>\n",
       "      <th>1</th>\n",
       "      <td>2018-01-03</td>\n",
       "      <td>20.635000</td>\n",
       "      <td>20.750000</td>\n",
       "      <td>20.565001</td>\n",
       "      <td>20.627501</td>\n",
       "      <td>19.969374</td>\n",
       "      <td>254600</td>\n",
       "      <td>19.744776</td>\n",
       "      <td>0.224598</td>\n",
       "    </tr>\n",
       "    <tr>\n",
       "      <th>2</th>\n",
       "      <td>2018-01-04</td>\n",
       "      <td>21.104000</td>\n",
       "      <td>21.235001</td>\n",
       "      <td>21.010000</td>\n",
       "      <td>21.235001</td>\n",
       "      <td>20.557491</td>\n",
       "      <td>354200</td>\n",
       "      <td>19.969374</td>\n",
       "      <td>0.588117</td>\n",
       "    </tr>\n",
       "    <tr>\n",
       "      <th>3</th>\n",
       "      <td>2018-01-05</td>\n",
       "      <td>21.455000</td>\n",
       "      <td>21.600000</td>\n",
       "      <td>21.379999</td>\n",
       "      <td>21.600000</td>\n",
       "      <td>20.910847</td>\n",
       "      <td>449400</td>\n",
       "      <td>20.557491</td>\n",
       "      <td>0.353356</td>\n",
       "    </tr>\n",
       "    <tr>\n",
       "      <th>4</th>\n",
       "      <td>2018-01-08</td>\n",
       "      <td>21.482500</td>\n",
       "      <td>21.610001</td>\n",
       "      <td>21.434999</td>\n",
       "      <td>21.610001</td>\n",
       "      <td>20.920527</td>\n",
       "      <td>479200</td>\n",
       "      <td>20.910847</td>\n",
       "      <td>0.009680</td>\n",
       "    </tr>\n",
       "  </tbody>\n",
       "</table>\n",
       "</div>"
      ],
      "text/plain": [
       "        Date       Open       High        Low      Close  Adj Close  Volume  \\\n",
       "0 2018-01-02  20.139999  20.405001  20.125000  20.395500  19.744776  275000   \n",
       "1 2018-01-03  20.635000  20.750000  20.565001  20.627501  19.969374  254600   \n",
       "2 2018-01-04  21.104000  21.235001  21.010000  21.235001  20.557491  354200   \n",
       "3 2018-01-05  21.455000  21.600000  21.379999  21.600000  20.910847  449400   \n",
       "4 2018-01-08  21.482500  21.610001  21.434999  21.610001  20.920527  479200   \n",
       "\n",
       "           t     Resid  \n",
       "0        NaN       NaN  \n",
       "1  19.744776  0.224598  \n",
       "2  19.969374  0.588117  \n",
       "3  20.557491  0.353356  \n",
       "4  20.910847  0.009680  "
      ]
     },
     "execution_count": 53,
     "metadata": {},
     "output_type": "execute_result"
    }
   ],
   "source": [
    "df.head()"
   ]
  },
  {
   "cell_type": "code",
   "execution_count": 54,
   "metadata": {},
   "outputs": [],
   "source": [
    "train, test = df.Resid[1:df.shape[0]-7], df.Resid[df.shape[0]-7:]"
   ]
  },
  {
   "cell_type": "code",
   "execution_count": 55,
   "metadata": {},
   "outputs": [
    {
     "data": {
      "text/plain": [
       "1    0.224598\n",
       "2    0.588117\n",
       "3    0.353356\n",
       "4    0.009680\n",
       "5    0.033884\n",
       "Name: Resid, dtype: float64"
      ]
     },
     "execution_count": 55,
     "metadata": {},
     "output_type": "execute_result"
    }
   ],
   "source": [
    "train.head()"
   ]
  },
  {
   "cell_type": "code",
   "execution_count": 56,
   "metadata": {},
   "outputs": [],
   "source": [
    "from statsmodels.tsa.ar_model import AR"
   ]
  },
  {
   "cell_type": "code",
   "execution_count": 57,
   "metadata": {},
   "outputs": [
    {
     "ename": "NameError",
     "evalue": "name 'AR_DEPRECATION_WARN' is not defined",
     "output_type": "error",
     "traceback": [
      "\u001b[1;31m---------------------------------------------------------------------------\u001b[0m",
      "\u001b[1;31mNameError\u001b[0m                                 Traceback (most recent call last)",
      "\u001b[1;32m<ipython-input-57-8927a0f88004>\u001b[0m in \u001b[0;36m<module>\u001b[1;34m\u001b[0m\n\u001b[0;32m      1\u001b[0m \u001b[1;32mimport\u001b[0m \u001b[0mwarnings\u001b[0m\u001b[1;33m\u001b[0m\u001b[1;33m\u001b[0m\u001b[0m\n\u001b[0;32m      2\u001b[0m \u001b[0mwarnings\u001b[0m\u001b[1;33m.\u001b[0m\u001b[0mfilterwarnings\u001b[0m\u001b[1;33m(\u001b[0m\u001b[1;34m'ignore'\u001b[0m\u001b[1;33m,\u001b[0m \u001b[1;34m'statsmodels.tsa.ar_model.AR'\u001b[0m\u001b[1;33m,\u001b[0m \u001b[0mFutureWarning\u001b[0m\u001b[1;33m)\u001b[0m\u001b[1;33m\u001b[0m\u001b[1;33m\u001b[0m\u001b[0m\n\u001b[1;32m----> 3\u001b[1;33m \u001b[0mwarnings\u001b[0m\u001b[1;33m.\u001b[0m\u001b[0mwarn\u001b[0m\u001b[1;33m(\u001b[0m\u001b[0mAR_DEPRECATION_WARN\u001b[0m\u001b[1;33m,\u001b[0m \u001b[0mFutureWarning\u001b[0m\u001b[1;33m)\u001b[0m\u001b[1;33m\u001b[0m\u001b[1;33m\u001b[0m\u001b[0m\n\u001b[0m",
      "\u001b[1;31mNameError\u001b[0m: name 'AR_DEPRECATION_WARN' is not defined"
     ]
    }
   ],
   "source": [
    "import warnings\n",
    "warnings.filterwarnings('ignore', 'statsmodels.tsa.ar_model.AR', FutureWarning)\n",
    "warnings.warn(AR_DEPRECATION_WARN, FutureWarning)"
   ]
  },
  {
   "cell_type": "code",
   "execution_count": 58,
   "metadata": {},
   "outputs": [
    {
     "name": "stderr",
     "output_type": "stream",
     "text": [
      "C:\\Users\\hp\\anaconda3\\lib\\site-packages\\statsmodels\\tsa\\ar_model.py:691: FutureWarning: \n",
      "statsmodels.tsa.AR has been deprecated in favor of statsmodels.tsa.AutoReg and\n",
      "statsmodels.tsa.SARIMAX.\n",
      "\n",
      "AutoReg adds the ability to specify exogenous variables, include time trends,\n",
      "and add seasonal dummies. The AutoReg API differs from AR since the model is\n",
      "treated as immutable, and so the entire specification including the lag\n",
      "length must be specified when creating the model. This change is too\n",
      "substantial to incorporate into the existing AR api. The function\n",
      "ar_select_order performs lag length selection for AutoReg models.\n",
      "\n",
      "AutoReg only estimates parameters using conditional MLE (OLS). Use SARIMAX to\n",
      "estimate ARX and related models using full MLE via the Kalman Filter.\n",
      "\n",
      "To silence this warning and continue using AR until it is removed, use:\n",
      "\n",
      "import warnings\n",
      "warnings.filterwarnings('ignore', 'statsmodels.tsa.ar_model.AR', FutureWarning)\n",
      "\n",
      "  warnings.warn(AR_DEPRECATION_WARN, FutureWarning)\n"
     ]
    }
   ],
   "source": [
    "model = AR(train)\n",
    "model_fit = model.fit()"
   ]
  },
  {
   "cell_type": "code",
   "execution_count": 62,
   "metadata": {},
   "outputs": [
    {
     "data": {
      "text/plain": [
       "20"
      ]
     },
     "execution_count": 62,
     "metadata": {},
     "output_type": "execute_result"
    }
   ],
   "source": [
    "model_fit.k_ar"
   ]
  },
  {
   "cell_type": "code",
   "execution_count": 63,
   "metadata": {},
   "outputs": [
    {
     "data": {
      "text/plain": [
       "const       -0.002486\n",
       "L1.Resid    -0.020058\n",
       "L2.Resid     0.060551\n",
       "L3.Resid    -0.030398\n",
       "L4.Resid    -0.012894\n",
       "L5.Resid     0.039448\n",
       "L6.Resid    -0.100163\n",
       "L7.Resid     0.055196\n",
       "L8.Resid    -0.103580\n",
       "L9.Resid    -0.002283\n",
       "L10.Resid    0.022006\n",
       "L11.Resid   -0.013658\n",
       "L12.Resid   -0.008116\n",
       "L13.Resid   -0.022171\n",
       "L14.Resid   -0.008542\n",
       "L15.Resid    0.025381\n",
       "L16.Resid    0.030208\n",
       "L17.Resid   -0.014028\n",
       "L18.Resid   -0.041879\n",
       "L19.Resid   -0.004817\n",
       "L20.Resid   -0.064558\n",
       "dtype: float64"
      ]
     },
     "execution_count": 63,
     "metadata": {},
     "output_type": "execute_result"
    }
   ],
   "source": [
    "model_fit.params"
   ]
  },
  {
   "cell_type": "code",
   "execution_count": 64,
   "metadata": {},
   "outputs": [],
   "source": [
    "pred_resid = model_fit.predict(start=len(train), end=len(train)+len(test)-1)"
   ]
  },
  {
   "cell_type": "code",
   "execution_count": 65,
   "metadata": {},
   "outputs": [
    {
     "data": {
      "text/plain": [
       "748   -0.085510\n",
       "749    0.049128\n",
       "750   -0.035905\n",
       "751    0.034987\n",
       "752   -0.112239\n",
       "753   -0.007659\n",
       "754   -0.031499\n",
       "dtype: float64"
      ]
     },
     "execution_count": 65,
     "metadata": {},
     "output_type": "execute_result"
    }
   ],
   "source": [
    "pred_resid"
   ]
  },
  {
   "cell_type": "code",
   "execution_count": 66,
   "metadata": {},
   "outputs": [
    {
     "data": {
      "text/plain": [
       "748    20.121000\n",
       "749    19.969999\n",
       "750    20.049999\n",
       "751    20.690001\n",
       "752    20.830000\n",
       "753    20.834000\n",
       "754    20.820000\n",
       "Name: t, dtype: float64"
      ]
     },
     "execution_count": 66,
     "metadata": {},
     "output_type": "execute_result"
    }
   ],
   "source": [
    "df.t[df.shape[0]-7:]"
   ]
  },
  {
   "cell_type": "code",
   "execution_count": 67,
   "metadata": {},
   "outputs": [],
   "source": [
    "predictions = df.t[df.shape[0]-7:] + pred_resid"
   ]
  },
  {
   "cell_type": "code",
   "execution_count": 68,
   "metadata": {},
   "outputs": [
    {
     "data": {
      "text/plain": [
       "748    20.035490\n",
       "749    20.019127\n",
       "750    20.014094\n",
       "751    20.724988\n",
       "752    20.717761\n",
       "753    20.826341\n",
       "754    20.788501\n",
       "dtype: float64"
      ]
     },
     "execution_count": 68,
     "metadata": {},
     "output_type": "execute_result"
    }
   ],
   "source": [
    "predictions"
   ]
  },
  {
   "cell_type": "code",
   "execution_count": 69,
   "metadata": {},
   "outputs": [
    {
     "name": "stdout",
     "output_type": "stream",
     "text": [
      "748    19.969999\n",
      "749    20.049999\n",
      "750    20.690001\n",
      "751    20.830000\n",
      "752    20.834000\n",
      "753    20.820000\n",
      "754    20.951000\n",
      "Name: Adj Close, dtype: float64\n"
     ]
    }
   ],
   "source": [
    "print(test_y)"
   ]
  },
  {
   "cell_type": "code",
   "execution_count": 70,
   "metadata": {},
   "outputs": [
    {
     "data": {
      "text/plain": [
       "0.07329683664974788"
      ]
     },
     "execution_count": 70,
     "metadata": {},
     "output_type": "execute_result"
    }
   ],
   "source": [
    "from sklearn.metrics import mean_squared_error\n",
    "mse = mean_squared_error(test_y,predictions)\n",
    "mse"
   ]
  },
  {
   "cell_type": "code",
   "execution_count": 72,
   "metadata": {},
   "outputs": [
    {
     "data": {
      "text/plain": [
       "[<matplotlib.lines.Line2D at 0x22674546f70>]"
      ]
     },
     "execution_count": 72,
     "metadata": {},
     "output_type": "execute_result"
    },
    {
     "data": {
      "image/png": "[encoded data removed]",
      "text/plain": [
       "<Figure size 432x288 with 1 Axes>"
      ]
     },
     "metadata": {
      "needs_background": "light"
     },
     "output_type": "display_data"
    }
   ],
   "source": [
    "plt.plot(test_y)\n",
    "plt.plot(predictions, color='red')"
   ]
  },
  {
   "cell_type": "code",
   "execution_count": null,
   "metadata": {},
   "outputs": [],
   "source": []
  },
  {
   "cell_type": "code",
   "execution_count": null,
   "metadata": {},
   "outputs": [],
   "source": []
  }
 ],
 "metadata": {
  "kernelspec": {
   "display_name": "Python 3",
   "language": "python",
   "name": "python3"
  },
  "language_info": {
   "codemirror_mode": {
    "name": "ipython",
    "version": 3
   },
   "file_extension": ".py",
   "mimetype": "text/x-python",
   "name": "python",
   "nbconvert_exporter": "python",
   "pygments_lexer": "ipython3",
   "version": "3.8.3"
  }
 },
 "nbformat": 4,
 "nbformat_minor": 4
}
